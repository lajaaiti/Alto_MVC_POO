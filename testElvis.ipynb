{
  "cells": [
    {
      "cell_type": "markdown",
      "metadata": {
        "id": "view-in-github",
        "colab_type": "text"
      },
      "source": [
        "<a href=\"https://colab.research.google.com/github/lajaaiti/Alto_MVC_POO/blob/main/testElvis.ipynb\" target=\"_parent\"><img src=\"https://colab.research.google.com/assets/colab-badge.svg\" alt=\"Open In Colab\"/></a>"
      ]
    },
    {
      "cell_type": "code",
      "execution_count": 1,
      "metadata": {
        "id": "hzAh5fZgknZ_"
      },
      "outputs": [],
      "source": [
        "import numpy as np\n",
        "import pandas as pd\n",
        "import matplotlib.pyplot as plt\n",
        "import seaborn as sns\n",
        "import tensorflow as tf\n",
        "from tensorflow.keras.preprocessing.text import Tokenizer\n",
        "from keras_preprocessing.sequence import pad_sequences\n",
        "from tensorflow.keras.models import Sequential\n",
        "from tensorflow.keras.layers import Dense, LSTM, Embedding, Dropout, Bidirectional\n",
        "from tensorflow.keras.optimizers import Adam\n",
        "from tensorflow.keras.callbacks import ModelCheckpoint\n",
        "from tensorflow.keras.models import load_model\n",
        "from tensorflow.keras.utils import to_categorical\n",
        "from keras.callbacks import EarlyStopping"
      ]
    },
    {
      "cell_type": "code",
      "execution_count": 2,
      "metadata": {
        "colab": {
          "base_uri": "https://localhost:8080/",
          "height": 206
        },
        "id": "R0pL99ALknaE",
        "outputId": "0d315a29-662b-4a48-abac-d8ae8a00d2f8"
      },
      "outputs": [
        {
          "output_type": "execute_result",
          "data": {
            "text/plain": [
              "                        Titre  \\\n",
              "0  Can't Help Falling In Love   \n",
              "1            Suspicious Minds   \n",
              "2           Always On My Mind   \n",
              "3              Love Me Tender   \n",
              "4                      My Way   \n",
              "\n",
              "                                               Lyric  \n",
              "0  Wise men say, only fools rush in\\nBut I can't ...  \n",
              "1  We're caught in a trap\\nI can't walk out\\nBeca...  \n",
              "2  Maybe I didn't treat you,\\nQuite as good as I ...  \n",
              "3  Love me tender, love me sweet,\\nNever let me g...  \n",
              "4  And now the end is near\\nAnd so I face the fin...  "
            ],
            "text/html": [
              "\n",
              "  <div id=\"df-b31d2c41-3eeb-4ec8-8160-c1600dd04935\">\n",
              "    <div class=\"colab-df-container\">\n",
              "      <div>\n",
              "<style scoped>\n",
              "    .dataframe tbody tr th:only-of-type {\n",
              "        vertical-align: middle;\n",
              "    }\n",
              "\n",
              "    .dataframe tbody tr th {\n",
              "        vertical-align: top;\n",
              "    }\n",
              "\n",
              "    .dataframe thead th {\n",
              "        text-align: right;\n",
              "    }\n",
              "</style>\n",
              "<table border=\"1\" class=\"dataframe\">\n",
              "  <thead>\n",
              "    <tr style=\"text-align: right;\">\n",
              "      <th></th>\n",
              "      <th>Titre</th>\n",
              "      <th>Lyric</th>\n",
              "    </tr>\n",
              "  </thead>\n",
              "  <tbody>\n",
              "    <tr>\n",
              "      <th>0</th>\n",
              "      <td>Can't Help Falling In Love</td>\n",
              "      <td>Wise men say, only fools rush in\\nBut I can't ...</td>\n",
              "    </tr>\n",
              "    <tr>\n",
              "      <th>1</th>\n",
              "      <td>Suspicious Minds</td>\n",
              "      <td>We're caught in a trap\\nI can't walk out\\nBeca...</td>\n",
              "    </tr>\n",
              "    <tr>\n",
              "      <th>2</th>\n",
              "      <td>Always On My Mind</td>\n",
              "      <td>Maybe I didn't treat you,\\nQuite as good as I ...</td>\n",
              "    </tr>\n",
              "    <tr>\n",
              "      <th>3</th>\n",
              "      <td>Love Me Tender</td>\n",
              "      <td>Love me tender, love me sweet,\\nNever let me g...</td>\n",
              "    </tr>\n",
              "    <tr>\n",
              "      <th>4</th>\n",
              "      <td>My Way</td>\n",
              "      <td>And now the end is near\\nAnd so I face the fin...</td>\n",
              "    </tr>\n",
              "  </tbody>\n",
              "</table>\n",
              "</div>\n",
              "      <button class=\"colab-df-convert\" onclick=\"convertToInteractive('df-b31d2c41-3eeb-4ec8-8160-c1600dd04935')\"\n",
              "              title=\"Convert this dataframe to an interactive table.\"\n",
              "              style=\"display:none;\">\n",
              "        \n",
              "  <svg xmlns=\"http://www.w3.org/2000/svg\" height=\"24px\"viewBox=\"0 0 24 24\"\n",
              "       width=\"24px\">\n",
              "    <path d=\"M0 0h24v24H0V0z\" fill=\"none\"/>\n",
              "    <path d=\"M18.56 5.44l.94 2.06.94-2.06 2.06-.94-2.06-.94-.94-2.06-.94 2.06-2.06.94zm-11 1L8.5 8.5l.94-2.06 2.06-.94-2.06-.94L8.5 2.5l-.94 2.06-2.06.94zm10 10l.94 2.06.94-2.06 2.06-.94-2.06-.94-.94-2.06-.94 2.06-2.06.94z\"/><path d=\"M17.41 7.96l-1.37-1.37c-.4-.4-.92-.59-1.43-.59-.52 0-1.04.2-1.43.59L10.3 9.45l-7.72 7.72c-.78.78-.78 2.05 0 2.83L4 21.41c.39.39.9.59 1.41.59.51 0 1.02-.2 1.41-.59l7.78-7.78 2.81-2.81c.8-.78.8-2.07 0-2.86zM5.41 20L4 18.59l7.72-7.72 1.47 1.35L5.41 20z\"/>\n",
              "  </svg>\n",
              "      </button>\n",
              "      \n",
              "  <style>\n",
              "    .colab-df-container {\n",
              "      display:flex;\n",
              "      flex-wrap:wrap;\n",
              "      gap: 12px;\n",
              "    }\n",
              "\n",
              "    .colab-df-convert {\n",
              "      background-color: #E8F0FE;\n",
              "      border: none;\n",
              "      border-radius: 50%;\n",
              "      cursor: pointer;\n",
              "      display: none;\n",
              "      fill: #1967D2;\n",
              "      height: 32px;\n",
              "      padding: 0 0 0 0;\n",
              "      width: 32px;\n",
              "    }\n",
              "\n",
              "    .colab-df-convert:hover {\n",
              "      background-color: #E2EBFA;\n",
              "      box-shadow: 0px 1px 2px rgba(60, 64, 67, 0.3), 0px 1px 3px 1px rgba(60, 64, 67, 0.15);\n",
              "      fill: #174EA6;\n",
              "    }\n",
              "\n",
              "    [theme=dark] .colab-df-convert {\n",
              "      background-color: #3B4455;\n",
              "      fill: #D2E3FC;\n",
              "    }\n",
              "\n",
              "    [theme=dark] .colab-df-convert:hover {\n",
              "      background-color: #434B5C;\n",
              "      box-shadow: 0px 1px 3px 1px rgba(0, 0, 0, 0.15);\n",
              "      filter: drop-shadow(0px 1px 2px rgba(0, 0, 0, 0.3));\n",
              "      fill: #FFFFFF;\n",
              "    }\n",
              "  </style>\n",
              "\n",
              "      <script>\n",
              "        const buttonEl =\n",
              "          document.querySelector('#df-b31d2c41-3eeb-4ec8-8160-c1600dd04935 button.colab-df-convert');\n",
              "        buttonEl.style.display =\n",
              "          google.colab.kernel.accessAllowed ? 'block' : 'none';\n",
              "\n",
              "        async function convertToInteractive(key) {\n",
              "          const element = document.querySelector('#df-b31d2c41-3eeb-4ec8-8160-c1600dd04935');\n",
              "          const dataTable =\n",
              "            await google.colab.kernel.invokeFunction('convertToInteractive',\n",
              "                                                     [key], {});\n",
              "          if (!dataTable) return;\n",
              "\n",
              "          const docLinkHtml = 'Like what you see? Visit the ' +\n",
              "            '<a target=\"_blank\" href=https://colab.research.google.com/notebooks/data_table.ipynb>data table notebook</a>'\n",
              "            + ' to learn more about interactive tables.';\n",
              "          element.innerHTML = '';\n",
              "          dataTable['output_type'] = 'display_data';\n",
              "          await google.colab.output.renderOutput(dataTable, element);\n",
              "          const docLink = document.createElement('div');\n",
              "          docLink.innerHTML = docLinkHtml;\n",
              "          element.appendChild(docLink);\n",
              "        }\n",
              "      </script>\n",
              "    </div>\n",
              "  </div>\n",
              "  "
            ]
          },
          "metadata": {},
          "execution_count": 2
        }
      ],
      "source": [
        "# data import\n",
        "data = pd.read_csv('dfElvis.csv')\n",
        "data.head()"
      ]
    },
    {
      "cell_type": "code",
      "execution_count": 3,
      "metadata": {
        "colab": {
          "base_uri": "https://localhost:8080/",
          "height": 206
        },
        "id": "G4t0N1W8knaF",
        "outputId": "197f86ab-db28-465d-c973-266d67ad088e"
      },
      "outputs": [
        {
          "output_type": "execute_result",
          "data": {
            "text/plain": [
              "                        Titre  \\\n",
              "0  Can't Help Falling In Love   \n",
              "1            Suspicious Minds   \n",
              "2           Always On My Mind   \n",
              "3              Love Me Tender   \n",
              "4                      My Way   \n",
              "\n",
              "                                               Lyric  Number_of_words  \n",
              "0  Wise men say, only fools rush in\\nBut I can't ...              110  \n",
              "1  We're caught in a trap\\nI can't walk out\\nBeca...              203  \n",
              "2  Maybe I didn't treat you,\\nQuite as good as I ...              159  \n",
              "3  Love me tender, love me sweet,\\nNever let me g...              125  \n",
              "4  And now the end is near\\nAnd so I face the fin...              249  "
            ],
            "text/html": [
              "\n",
              "  <div id=\"df-1d6b9efb-8f02-4ed5-a6e9-f6e7ec2de043\">\n",
              "    <div class=\"colab-df-container\">\n",
              "      <div>\n",
              "<style scoped>\n",
              "    .dataframe tbody tr th:only-of-type {\n",
              "        vertical-align: middle;\n",
              "    }\n",
              "\n",
              "    .dataframe tbody tr th {\n",
              "        vertical-align: top;\n",
              "    }\n",
              "\n",
              "    .dataframe thead th {\n",
              "        text-align: right;\n",
              "    }\n",
              "</style>\n",
              "<table border=\"1\" class=\"dataframe\">\n",
              "  <thead>\n",
              "    <tr style=\"text-align: right;\">\n",
              "      <th></th>\n",
              "      <th>Titre</th>\n",
              "      <th>Lyric</th>\n",
              "      <th>Number_of_words</th>\n",
              "    </tr>\n",
              "  </thead>\n",
              "  <tbody>\n",
              "    <tr>\n",
              "      <th>0</th>\n",
              "      <td>Can't Help Falling In Love</td>\n",
              "      <td>Wise men say, only fools rush in\\nBut I can't ...</td>\n",
              "      <td>110</td>\n",
              "    </tr>\n",
              "    <tr>\n",
              "      <th>1</th>\n",
              "      <td>Suspicious Minds</td>\n",
              "      <td>We're caught in a trap\\nI can't walk out\\nBeca...</td>\n",
              "      <td>203</td>\n",
              "    </tr>\n",
              "    <tr>\n",
              "      <th>2</th>\n",
              "      <td>Always On My Mind</td>\n",
              "      <td>Maybe I didn't treat you,\\nQuite as good as I ...</td>\n",
              "      <td>159</td>\n",
              "    </tr>\n",
              "    <tr>\n",
              "      <th>3</th>\n",
              "      <td>Love Me Tender</td>\n",
              "      <td>Love me tender, love me sweet,\\nNever let me g...</td>\n",
              "      <td>125</td>\n",
              "    </tr>\n",
              "    <tr>\n",
              "      <th>4</th>\n",
              "      <td>My Way</td>\n",
              "      <td>And now the end is near\\nAnd so I face the fin...</td>\n",
              "      <td>249</td>\n",
              "    </tr>\n",
              "  </tbody>\n",
              "</table>\n",
              "</div>\n",
              "      <button class=\"colab-df-convert\" onclick=\"convertToInteractive('df-1d6b9efb-8f02-4ed5-a6e9-f6e7ec2de043')\"\n",
              "              title=\"Convert this dataframe to an interactive table.\"\n",
              "              style=\"display:none;\">\n",
              "        \n",
              "  <svg xmlns=\"http://www.w3.org/2000/svg\" height=\"24px\"viewBox=\"0 0 24 24\"\n",
              "       width=\"24px\">\n",
              "    <path d=\"M0 0h24v24H0V0z\" fill=\"none\"/>\n",
              "    <path d=\"M18.56 5.44l.94 2.06.94-2.06 2.06-.94-2.06-.94-.94-2.06-.94 2.06-2.06.94zm-11 1L8.5 8.5l.94-2.06 2.06-.94-2.06-.94L8.5 2.5l-.94 2.06-2.06.94zm10 10l.94 2.06.94-2.06 2.06-.94-2.06-.94-.94-2.06-.94 2.06-2.06.94z\"/><path d=\"M17.41 7.96l-1.37-1.37c-.4-.4-.92-.59-1.43-.59-.52 0-1.04.2-1.43.59L10.3 9.45l-7.72 7.72c-.78.78-.78 2.05 0 2.83L4 21.41c.39.39.9.59 1.41.59.51 0 1.02-.2 1.41-.59l7.78-7.78 2.81-2.81c.8-.78.8-2.07 0-2.86zM5.41 20L4 18.59l7.72-7.72 1.47 1.35L5.41 20z\"/>\n",
              "  </svg>\n",
              "      </button>\n",
              "      \n",
              "  <style>\n",
              "    .colab-df-container {\n",
              "      display:flex;\n",
              "      flex-wrap:wrap;\n",
              "      gap: 12px;\n",
              "    }\n",
              "\n",
              "    .colab-df-convert {\n",
              "      background-color: #E8F0FE;\n",
              "      border: none;\n",
              "      border-radius: 50%;\n",
              "      cursor: pointer;\n",
              "      display: none;\n",
              "      fill: #1967D2;\n",
              "      height: 32px;\n",
              "      padding: 0 0 0 0;\n",
              "      width: 32px;\n",
              "    }\n",
              "\n",
              "    .colab-df-convert:hover {\n",
              "      background-color: #E2EBFA;\n",
              "      box-shadow: 0px 1px 2px rgba(60, 64, 67, 0.3), 0px 1px 3px 1px rgba(60, 64, 67, 0.15);\n",
              "      fill: #174EA6;\n",
              "    }\n",
              "\n",
              "    [theme=dark] .colab-df-convert {\n",
              "      background-color: #3B4455;\n",
              "      fill: #D2E3FC;\n",
              "    }\n",
              "\n",
              "    [theme=dark] .colab-df-convert:hover {\n",
              "      background-color: #434B5C;\n",
              "      box-shadow: 0px 1px 3px 1px rgba(0, 0, 0, 0.15);\n",
              "      filter: drop-shadow(0px 1px 2px rgba(0, 0, 0, 0.3));\n",
              "      fill: #FFFFFF;\n",
              "    }\n",
              "  </style>\n",
              "\n",
              "      <script>\n",
              "        const buttonEl =\n",
              "          document.querySelector('#df-1d6b9efb-8f02-4ed5-a6e9-f6e7ec2de043 button.colab-df-convert');\n",
              "        buttonEl.style.display =\n",
              "          google.colab.kernel.accessAllowed ? 'block' : 'none';\n",
              "\n",
              "        async function convertToInteractive(key) {\n",
              "          const element = document.querySelector('#df-1d6b9efb-8f02-4ed5-a6e9-f6e7ec2de043');\n",
              "          const dataTable =\n",
              "            await google.colab.kernel.invokeFunction('convertToInteractive',\n",
              "                                                     [key], {});\n",
              "          if (!dataTable) return;\n",
              "\n",
              "          const docLinkHtml = 'Like what you see? Visit the ' +\n",
              "            '<a target=\"_blank\" href=https://colab.research.google.com/notebooks/data_table.ipynb>data table notebook</a>'\n",
              "            + ' to learn more about interactive tables.';\n",
              "          element.innerHTML = '';\n",
              "          dataTable['output_type'] = 'display_data';\n",
              "          await google.colab.output.renderOutput(dataTable, element);\n",
              "          const docLink = document.createElement('div');\n",
              "          docLink.innerHTML = docLinkHtml;\n",
              "          element.appendChild(docLink);\n",
              "        }\n",
              "      </script>\n",
              "    </div>\n",
              "  </div>\n",
              "  "
            ]
          },
          "metadata": {},
          "execution_count": 3
        }
      ],
      "source": [
        "data['Number_of_words'] = data['Lyric'].apply(lambda x:len(str(x).split()))\n",
        "data.head()"
      ]
    },
    {
      "cell_type": "code",
      "execution_count": 4,
      "metadata": {
        "colab": {
          "base_uri": "https://localhost:8080/"
        },
        "id": "ZMGF-nmSknaH",
        "outputId": "b2c262c8-0f9f-4ea7-d7f3-3960e3b2806e"
      },
      "outputs": [
        {
          "output_type": "execute_result",
          "data": {
            "text/plain": [
              "count    747.000000\n",
              "mean     154.759036\n",
              "std       66.081887\n",
              "min       17.000000\n",
              "25%      106.000000\n",
              "50%      149.000000\n",
              "75%      192.000000\n",
              "max      452.000000\n",
              "Name: Number_of_words, dtype: float64"
            ]
          },
          "metadata": {},
          "execution_count": 4
        }
      ],
      "source": [
        "data['Number_of_words'].describe()"
      ]
    },
    {
      "cell_type": "code",
      "execution_count": 5,
      "metadata": {
        "colab": {
          "base_uri": "https://localhost:8080/",
          "height": 484
        },
        "id": "k4PZA5RVknaI",
        "outputId": "f6bb1726-905b-4683-9250-514ea62cece4"
      },
      "outputs": [
        {
          "output_type": "stream",
          "name": "stderr",
          "text": [
            "/usr/local/lib/python3.7/dist-packages/seaborn/distributions.py:2619: FutureWarning: `distplot` is a deprecated function and will be removed in a future version. Please adapt your code to use either `displot` (a figure-level function with similar flexibility) or `histplot` (an axes-level function for histograms).\n",
            "  warnings.warn(msg, FutureWarning)\n"
          ]
        },
        {
          "output_type": "execute_result",
          "data": {
            "text/plain": [
              "Text(0.5, 1.0, 'Frequency distribution of number of words for each text extracted')"
            ]
          },
          "metadata": {},
          "execution_count": 5
        },
        {
          "output_type": "display_data",
          "data": {
            "text/plain": [
              "<Figure size 864x432 with 1 Axes>"
            ],
            "image/png": "[encoded data removed]"
          },
          "metadata": {}
        }
      ],
      "source": [
        "import matplotlib.pyplot as plt\n",
        "plt.style.use('ggplot')\n",
        "plt.figure(figsize=(12,6))\n",
        "sns.distplot(data['Number_of_words'],kde = False,color=\"red\",bins=200)\n",
        "plt.title(\"Frequency distribution of number of words for each text extracted\", size=20)"
      ]
    },
    {
      "cell_type": "code",
      "execution_count": 6,
      "metadata": {
        "colab": {
          "base_uri": "https://localhost:8080/"
        },
        "id": "MjfPYxz9knaJ",
        "outputId": "2e9a08fe-2ace-4941-ac46-d562b4fdac3b"
      },
      "outputs": [
        {
          "output_type": "execute_result",
          "data": {
            "text/plain": [
              "[434,\n",
              " 646,\n",
              " 74,\n",
              " 99,\n",
              " 1358,\n",
              " 983,\n",
              " 9,\n",
              " 24,\n",
              " 2,\n",
              " 67,\n",
              " 231,\n",
              " 496,\n",
              " 9,\n",
              " 11,\n",
              " 27,\n",
              " 3,\n",
              " 299,\n",
              " 2,\n",
              " 176,\n",
              " 123,\n",
              " 16,\n",
              " 13,\n",
              " 4,\n",
              " 723,\n",
              " 33,\n",
              " 2,\n",
              " 67,\n",
              " 231,\n",
              " 496,\n",
              " 9,\n",
              " 11,\n",
              " 27,\n",
              " 3,\n",
              " 35,\n",
              " 4,\n",
              " 672,\n",
              " 1670,\n",
              " 673,\n",
              " 6,\n",
              " 1,\n",
              " 317,\n",
              " 177,\n",
              " 22,\n",
              " 16,\n",
              " 390,\n",
              " 2662,\n",
              " 62,\n",
              " 820,\n",
              " 6,\n",
              " 13,\n",
              " 77,\n",
              " 8,\n",
              " 109,\n",
              " 77,\n",
              " 8,\n",
              " 228,\n",
              " 97,\n",
              " 104,\n",
              " 17,\n",
              " 2,\n",
              " 67,\n",
              " 231,\n",
              " 496,\n",
              " 9,\n",
              " 11,\n",
              " 27,\n",
              " 3,\n",
              " 35,\n",
              " 4,\n",
              " 672,\n",
              " 1670,\n",
              " 673,\n",
              " 6,\n",
              " 1,\n",
              " 317,\n",
              " 177,\n",
              " 22,\n",
              " 16,\n",
              " 390,\n",
              " 2662,\n",
              " 62,\n",
              " 820,\n",
              " 6,\n",
              " 13,\n",
              " 77,\n",
              " 8,\n",
              " 109,\n",
              " 77,\n",
              " 8,\n",
              " 228,\n",
              " 97,\n",
              " 104,\n",
              " 17,\n",
              " 2,\n",
              " 67,\n",
              " 231,\n",
              " 496,\n",
              " 9,\n",
              " 11,\n",
              " 27,\n",
              " 3,\n",
              " 17,\n",
              " 2,\n",
              " 67,\n",
              " 231,\n",
              " 496,\n",
              " 9,\n",
              " 11,\n",
              " 27,\n",
              " 3]"
            ]
          },
          "metadata": {},
          "execution_count": 6
        }
      ],
      "source": [
        "# Tokenization\n",
        "tokenizer = Tokenizer()\n",
        "tokenizer.fit_on_texts(data['Lyric'].astype(str).str.lower())\n",
        "\n",
        "total_words = len(tokenizer.word_index)+1\n",
        "tokenized_sentences = tokenizer.texts_to_sequences(data['Lyric'].astype(str))\n",
        "tokenized_sentences[0]"
      ]
    },
    {
      "cell_type": "code",
      "execution_count": 7,
      "metadata": {
        "id": "APnTQTh9knaL"
      },
      "outputs": [],
      "source": [
        "#Slash sequences into n gram sequence\n",
        "input_sequences = list()\n",
        "for i in tokenized_sentences:\n",
        "    for t in range(1, len(i)):\n",
        "        n_gram_sequence = i[:t+1]\n",
        "        input_sequences.append(n_gram_sequence)\n",
        "        \n",
        "# Pre padding\n",
        "max_sequence_len = max([len(x) for x in input_sequences])\n",
        "input_sequences = np.array(pad_sequences(input_sequences, maxlen=max_sequence_len, padding='pre'))"
      ]
    },
    {
      "cell_type": "code",
      "execution_count": 8,
      "metadata": {
        "colab": {
          "base_uri": "https://localhost:8080/"
        },
        "id": "2CEzcb4TknaM",
        "outputId": "32e5dde7-1a5a-4692-8626-8cf07699e8f4"
      },
      "outputs": [
        {
          "output_type": "execute_result",
          "data": {
            "text/plain": [
              "array([[  0,   0,   0, ...,   0, 434, 646],\n",
              "       [  0,   0,   0, ..., 434, 646,  74],\n",
              "       [  0,   0,   0, ..., 646,  74,  99],\n",
              "       ...,\n",
              "       [  0,   0,   0, ...,   9,  24,   2],\n",
              "       [  0,   0,   0, ...,  24,   2,  67],\n",
              "       [  0,   0,   0, ...,   2,  67, 231]], dtype=int32)"
            ]
          },
          "metadata": {},
          "execution_count": 8
        }
      ],
      "source": [
        "input_sequences[:10]"
      ]
    },
    {
      "cell_type": "code",
      "execution_count": 9,
      "metadata": {
        "id": "9VYt0ORSknaM"
      },
      "outputs": [],
      "source": [
        "# create predictors and label\n",
        "X, labels = input_sequences[:,:-1],input_sequences[:,-1]\n",
        "y = tf.keras.utils.to_categorical(labels, num_classes=total_words)"
      ]
    },
    {
      "cell_type": "code",
      "execution_count": 10,
      "metadata": {
        "colab": {
          "base_uri": "https://localhost:8080/"
        },
        "id": "GYN-AyhMknaN",
        "outputId": "75b9246c-5983-47a6-97db-35dbc46273bc"
      },
      "outputs": [
        {
          "output_type": "stream",
          "name": "stdout",
          "text": [
            "Epoch 1/25\n",
            "3596/3596 [==============================] - 181s 48ms/step - loss: 5.9718 - accuracy: 0.0708\n",
            "Epoch 2/25\n",
            "3596/3596 [==============================] - 176s 49ms/step - loss: 5.1582 - accuracy: 0.1304\n",
            "Epoch 3/25\n",
            "3596/3596 [==============================] - 175s 49ms/step - loss: 4.5437 - accuracy: 0.1878\n",
            "Epoch 4/25\n",
            "3596/3596 [==============================] - 184s 51ms/step - loss: 4.0371 - accuracy: 0.2427\n",
            "Epoch 5/25\n",
            "3596/3596 [==============================] - 176s 49ms/step - loss: 3.6228 - accuracy: 0.2945\n",
            "Epoch 6/25\n",
            "3596/3596 [==============================] - 173s 48ms/step - loss: 3.2820 - accuracy: 0.3393\n",
            "Epoch 7/25\n",
            "3596/3596 [==============================] - 176s 49ms/step - loss: 2.9953 - accuracy: 0.3830\n",
            "Epoch 8/25\n",
            "3596/3596 [==============================] - 175s 49ms/step - loss: 2.7575 - accuracy: 0.4192\n",
            "Epoch 9/25\n",
            "3596/3596 [==============================] - 175s 49ms/step - loss: 2.5579 - accuracy: 0.4520\n",
            "Epoch 10/25\n",
            "3596/3596 [==============================] - 176s 49ms/step - loss: 2.3875 - accuracy: 0.4815\n",
            "Epoch 11/25\n",
            "3596/3596 [==============================] - 173s 48ms/step - loss: 2.2437 - accuracy: 0.5052\n",
            "Epoch 12/25\n",
            "3596/3596 [==============================] - 173s 48ms/step - loss: 2.1265 - accuracy: 0.5277\n",
            "Epoch 13/25\n",
            "3596/3596 [==============================] - 172s 48ms/step - loss: 2.0213 - accuracy: 0.5461\n",
            "Epoch 14/25\n",
            "3596/3596 [==============================] - 171s 47ms/step - loss: 1.9290 - accuracy: 0.5624\n",
            "Epoch 15/25\n",
            "3596/3596 [==============================] - 177s 49ms/step - loss: 1.8471 - accuracy: 0.5768\n",
            "Epoch 16/25\n",
            "3596/3596 [==============================] - 176s 49ms/step - loss: 1.7839 - accuracy: 0.5887\n",
            "Epoch 17/25\n",
            "3596/3596 [==============================] - 175s 49ms/step - loss: 1.7268 - accuracy: 0.5969\n",
            "Epoch 18/25\n",
            "3596/3596 [==============================] - 176s 49ms/step - loss: 1.6774 - accuracy: 0.6063\n",
            "Epoch 19/25\n",
            "3596/3596 [==============================] - 174s 49ms/step - loss: 1.6357 - accuracy: 0.6136\n",
            "Epoch 20/25\n",
            "3596/3596 [==============================] - 174s 49ms/step - loss: 1.5884 - accuracy: 0.6227\n",
            "Epoch 21/25\n",
            "3596/3596 [==============================] - 173s 48ms/step - loss: 1.5661 - accuracy: 0.6258\n",
            "Epoch 22/25\n",
            "3596/3596 [==============================] - 173s 48ms/step - loss: 1.5295 - accuracy: 0.6317\n",
            "Epoch 23/25\n",
            "3596/3596 [==============================] - 171s 48ms/step - loss: 1.5036 - accuracy: 0.6368\n",
            "Epoch 24/25\n",
            "3596/3596 [==============================] - 171s 47ms/step - loss: 1.4753 - accuracy: 0.6416\n",
            "Epoch 25/25\n",
            "3596/3596 [==============================] - 170s 47ms/step - loss: 1.4614 - accuracy: 0.6434\n"
          ]
        }
      ],
      "source": [
        "# create model\n",
        "model = Sequential()\n",
        "model.add(Embedding(total_words, 40, input_length=max_sequence_len-1))\n",
        "model.add(Bidirectional(LSTM(240)))\n",
        "model.add(Dropout(0.1))\n",
        "model.add(Dense(total_words, activation='softmax'))\n",
        "model.compile(loss='categorical_crossentropy', optimizer='adam', metrics=['accuracy'])\n",
        "earlystop = EarlyStopping(monitor='loss', min_delta=0, patience=3, verbose=0, mode='auto')\n",
        "history = model.fit(X, y, epochs=25, verbose=1, callbacks=[earlystop])"
      ]
    },
    {
      "cell_type": "code",
      "execution_count": 11,
      "metadata": {
        "colab": {
          "base_uri": "https://localhost:8080/",
          "height": 282
        },
        "id": "m-5xWiSeknaO",
        "outputId": "8578aa49-19d0-47e3-d81f-f5510e95ccfe"
      },
      "outputs": [
        {
          "output_type": "display_data",
          "data": {
            "text/plain": [
              "<Figure size 432x288 with 1 Axes>"
            ],
            "image/png": "[encoded data removed]"
          },
          "metadata": {}
        },
        {
          "output_type": "display_data",
          "data": {
            "text/plain": [
              "<Figure size 432x288 with 0 Axes>"
            ]
          },
          "metadata": {}
        }
      ],
      "source": [
        "# plot the accuracy\n",
        "plt.plot(history.history['accuracy'], label='train acc')\n",
        "plt.legend()\n",
        "plt.show()\n",
        "plt.savefig('AccVal_acc')"
      ]
    },
    {
      "cell_type": "code",
      "execution_count": 12,
      "metadata": {
        "id": "vLIeimLDknaP"
      },
      "outputs": [],
      "source": [
        "def complete_this_song(seed_text, next_words):\n",
        "    for _ in range(next_words):\n",
        "        token_list = tokenizer.texts_to_sequences([seed_text])[0]\n",
        "        token_list = pad_sequences([token_list], maxlen=max_sequence_len-1, padding='pre')\n",
        "        predicted = model.predict(token_list, verbose=0)\n",
        "        predicted =np.argmax(predicted,axis=1)\n",
        "        #predicted = np.round(predicted).astype(int)\n",
        "        \n",
        "        output_word = \"\"\n",
        "        for word, index in tokenizer.word_index.items():\n",
        "            if index == predicted:\n",
        "                output_word = word\n",
        "                break\n",
        "        seed_text += \" \" + output_word\n",
        "    return seed_text"
      ]
    },
    {
      "cell_type": "code",
      "execution_count": 13,
      "metadata": {
        "colab": {
          "base_uri": "https://localhost:8080/",
          "height": 35
        },
        "id": "kXqHYONYknaQ",
        "outputId": "9e87f39a-d80a-45ee-d1b6-98fe8f472b71"
      },
      "outputs": [
        {
          "output_type": "execute_result",
          "data": {
            "text/plain": [
              "\"the sky is blue and you're so alone and i will never see you\""
            ],
            "application/vnd.google.colaboratory.intrinsic+json": {
              "type": "string"
            }
          },
          "metadata": {},
          "execution_count": 13
        }
      ],
      "source": [
        "complete_this_song(\"the sky is blue\", 10)"
      ]
    },
    {
      "cell_type": "code",
      "execution_count": null,
      "metadata": {
        "id": "6lrAhN4_knaR"
      },
      "outputs": [],
      "source": [
        "# save model\n",
        "model.save('Elvis_generator_text.h5')"
      ]
    }
  ],
  "metadata": {
    "accelerator": "GPU",
    "colab": {
      "collapsed_sections": [],
      "provenance": [],
      "include_colab_link": true
    },
    "kernelspec": {
      "display_name": "Python 3.10.6 64-bit",
      "language": "python",
      "name": "python3"
    },
    "language_info": {
      "codemirror_mode": {
        "name": "ipython",
        "version": 3
      },
      "file_extension": ".py",
      "mimetype": "text/x-python",
      "name": "python",
      "nbconvert_exporter": "python",
      "pygments_lexer": "ipython3",
      "version": "3.10.6"
    },
    "vscode": {
      "interpreter": {
        "hash": "916dbcbb3f70747c44a77c7bcd40155683ae19c65e1c03b4aa3499c5328201f1"
      }
    }
  },
  "nbformat": 4,
  "nbformat_minor": 0
}